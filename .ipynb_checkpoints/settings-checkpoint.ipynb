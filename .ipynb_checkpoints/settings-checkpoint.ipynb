{
 "cells": [
  {
   "cell_type": "markdown",
   "metadata": {
    "collapsed": true
   },
   "source": [
    "# Find best hyperparameter settings\n",
    "We deduce the 'best' hyperparamter settings of an algorithm from performance data of 100 OpenML datasets."
   ]
  },
  {
   "cell_type": "code",
   "execution_count": 63,
   "metadata": {
    "collapsed": false
   },
   "outputs": [],
   "source": [
    "from hyperimp import settings\n",
    "from scipy.io import arff\n",
    "import pandas as pd\n",
    "import numpy as np\n",
    "import math\n",
    "import matplotlib.pyplot as plt\n",
    "import seaborn as sns"
   ]
  },
  {
   "cell_type": "code",
   "execution_count": 64,
   "metadata": {
    "collapsed": false
   },
   "outputs": [],
   "source": [
    "# load data\n",
    "data = arff.loadarff('data/meta_svm.arff')\n",
    "svm = pd.DataFrame(data[0])\n",
    "data = arff.loadarff('data/meta_random_forest.arff')\n",
    "rf = pd.DataFrame(data[0])\n",
    "data = arff.loadarff('data/meta_adaboost.arff')\n",
    "ada = pd.DataFrame(data[0])\n",
    "\n",
    "# group svm data by kernel\n",
    "g = svm.groupby('kernel')\n",
    "\n",
    "# create dictionary with dataframes per algorithm\n",
    "alg_names = ['svm_' + s.decode('UTF-8') for s in list(g.groups.keys())] + ['rf', 'ada']\n",
    "dfs_all = [g.get_group(x) for x in g.groups] + [rf, ada]\n",
    "dfs = {}\n",
    "for alg, df in zip(alg_names, dfs_all):\n",
    "    dfs[alg] = df\n",
    "\n",
    "# initialize Alg objects\n",
    "algs = settings.init_algs('data/parameters.csv', dfs)"
   ]
  },
  {
   "cell_type": "code",
   "execution_count": 78,
   "metadata": {
    "collapsed": false
   },
   "outputs": [
    {
     "name": "stdout",
     "output_type": "stream",
     "text": [
      "Best parameter settings (upper, lower, average):\n",
      "ada\n",
      "('learning_rate', (0.9403636048583641, 1.3690599802270496, 1.1346427535897055))\n",
      "('max_depth', (10.0, 10.0, 10.0))\n",
      "('n_estimators', (347.0, 347.0, 347.0))\n",
      "\n",
      "rf\n",
      "('max_features', (0.10049095794053714, 0.1671092005338944, 0.13380007923721576))\n",
      "('min_samples_leaf', (1.0, 1.0, 1.0))\n",
      "('min_samples_split', (3.0, 3.0, 3.0))\n",
      "\n",
      "svm_poly\n",
      "('gamma', (0.02777172820303183, 0.0861657709598875, 0.048918016839429306))\n",
      "('C', (750.2445960405138, 2639.280475839149, 1407.1623624989254))\n",
      "('tol', (2.3121597756484174e-05, 5.33996069994535e-05, 3.5138073842994044e-05))\n",
      "('coef0', (0.6354975528283304, 0.8170906933257429, 0.7262941230770367))\n",
      "\n",
      "svm_rbf\n",
      "('gamma', (3.064979617150178e-05, 9.517823176868809e-05, 5.401104890366645e-05))\n",
      "('C', (3187.5329804684493, 10097.45003439787, 5673.266695941192))\n",
      "('tol', (1.0050080883373552e-05, 2.316065882326913e-05, 1.5256686877761962e-05))\n",
      "\n",
      "svm_sigmoid\n",
      "('gamma', (3.054518416172193e-05, 8.611483342565479e-05, 5.1287361465010395e-05))\n",
      "('C', (9257.781012651107, 32623.42616821299, 17378.738025176266))\n",
      "('tol', (0.0015014851761140757, 0.003458142682673522, 0.0022786728538606972))\n",
      "('coef0', (-0.8180850214107027, -0.6364802284174533, -0.727282624914078))\n",
      "\n"
     ]
    }
   ],
   "source": [
    "# find 'best' settings for each algorithm\n",
    "n = 10\n",
    "m = 40\n",
    "best_settings = {}\n",
    "\n",
    "for alg in algs:\n",
    "    best_settings[alg.name] = settings.find_settings(alg, n, m)\n",
    "\n",
    "print(\"Best parameter settings (upper, lower, average):\")\n",
    "for alg in best_settings.items():\n",
    "    print(alg[0])\n",
    "    for param in alg[1].items():\n",
    "        print(param)\n",
    "    print('')"
   ]
  },
  {
   "cell_type": "code",
   "execution_count": 98,
   "metadata": {
    "collapsed": false
   },
   "outputs": [
    {
     "name": "stdout",
     "output_type": "stream",
     "text": [
      "Parameter ranges used in random search verification experiment:\n",
      "('gamma', array([3.05175781e-05, 1.22070312e-04, 4.88281250e-04, 1.95312500e-03,\n",
      "       7.81250000e-03, 3.12500000e-02, 1.25000000e-01, 5.00000000e-01,\n",
      "       2.00000000e+00, 8.00000000e+00])) \n",
      "\n",
      "('C', array([3.12500000e-02, 1.45816130e-01, 6.80395000e-01, 3.17480210e+00,\n",
      "       1.48139954e+01, 6.91238233e+01, 3.22539789e+02, 1.50500812e+03,\n",
      "       7.02254271e+03, 3.27680000e+04])) \n",
      "\n",
      "('tol', array([1.00000000e-05, 2.78255940e-05, 7.74263683e-05, 2.15443469e-04,\n",
      "       5.99484250e-04, 1.66810054e-03, 4.64158883e-03, 1.29154967e-02,\n",
      "       3.59381366e-02, 1.00000000e-01])) \n",
      "\n",
      "('coef0', array([0.        , 0.11111111, 0.22222222, 0.33333333, 0.44444444,\n",
      "       0.55555556, 0.66666667, 0.77777778, 0.88888889, 1.        ])) \n",
      "\n",
      "('max_features', array([0.1       , 0.18888889, 0.27777778, 0.36666667, 0.45555556,\n",
      "       0.54444444, 0.63333333, 0.72222222, 0.81111111, 0.9       ])) \n",
      "\n",
      "('min_samples_leaf', array([ 1.        ,  3.11111111,  5.22222222,  7.33333333,  9.44444444,\n",
      "       11.55555556, 13.66666667, 15.77777778, 17.88888889, 20.        ])) \n",
      "\n",
      "('min_samples_split', array([ 2.,  4.,  6.,  8., 10., 12., 14., 16., 18., 20.])) \n",
      "\n",
      "('learning_rate', array([0.01      , 0.01801648, 0.03245936, 0.05848035, 0.10536103,\n",
      "       0.18982351, 0.34199519, 0.61615503, 1.11009462, 2.        ])) \n",
      "\n",
      "('max_depth', array([ 1.,  2.,  3.,  4.,  5.,  6.,  7.,  8.,  9., 10.])) \n",
      "\n",
      "('n_estimators', array([ 50., 100., 150., 200., 250., 300., 350., 400., 450., 500.])) \n",
      "\n"
     ]
    }
   ],
   "source": [
    "# set ranges used in random search verification experiment\n",
    "ranges = {'gamma' : np.logspace(-15, 3, 10, base = 2),\n",
    "          'C' : np.logspace(-5, 15, 10, base = 2),\n",
    "          'tol' : np.logspace(-5, -1, 10, base = 10),\n",
    "          'coef0' : np.linspace(0, 1, 10),\n",
    "          'max_features' : np.linspace(0.1, 0.9, 10), \n",
    "          'min_samples_leaf' : np.linspace(1, 20, 10),\n",
    "          'min_samples_split' : np.linspace(2, 20, 10),\n",
    "          'learning_rate' : np.logspace(np.log10(0.01), np.log10(2), 10, base = 10),\n",
    "          'max_depth' : np.linspace(1, 10, 10),\n",
    "          'n_estimators' : np.linspace(50, 500, 10)\n",
    "}\n",
    "\n",
    "print('Parameter ranges used in random search verification experiment:')\n",
    "for i in ranges.items():\n",
    "    print('%s \\n' % str(i))"
   ]
  },
  {
   "cell_type": "code",
   "execution_count": 102,
   "metadata": {
    "collapsed": false
   },
   "outputs": [
    {
     "name": "stdout",
     "output_type": "stream",
     "text": [
      "The following parameters of rs verification experiment fall within the 'best' settings:\n",
      "\n",
      "ada learning_rate: 1.11009 falls within (0.94036, 1.36906)\n",
      "ada max_depth: 10.00000 falls within (10.00000, 10.00000)\n",
      "rf min_samples_leaf: 1.00000 falls within (1.00000, 1.00000)\n",
      "svm_poly gamma: 0.03125 falls within (0.02777, 0.08617)\n",
      "svm_poly C: 1505.00812 falls within (750.24460, 2639.28048)\n",
      "svm_poly tol: 0.00003 falls within (0.00002, 0.00005)\n",
      "svm_poly coef0: 0.66667 falls within (0.63550, 0.81709)\n",
      "svm_poly coef0: 0.77778 falls within (0.63550, 0.81709)\n",
      "svm_rbf C: 7022.54271 falls within (3187.53298, 10097.45003)\n",
      "svm_sigmoid tol: 0.00167 falls within (0.00150, 0.00346)\n"
     ]
    }
   ],
   "source": [
    "# check if verification experiment settings fall within the best hyper parameter setting ranges \n",
    "print(\"The following parameters of rs verification experiment fall within the 'best' settings:\\n\")\n",
    "for alg in best_settings.items():\n",
    "    for param in alg[1].items():\n",
    "        name = param[0]\n",
    "        lower = param[1][0]\n",
    "        upper = param[1][1]\n",
    "        for i in ranges[name]:\n",
    "            if i >= lower and i <= upper:\n",
    "                print('%s %s: %.5f falls within (%.5f, %.5f)' %(alg[0], name, i, lower, upper))"
   ]
  },
  {
   "cell_type": "code",
   "execution_count": null,
   "metadata": {
    "collapsed": true
   },
   "outputs": [],
   "source": []
  }
 ],
 "metadata": {
  "kernelspec": {
   "display_name": "Python 3",
   "language": "python",
   "name": "python3"
  },
  "language_info": {
   "codemirror_mode": {
    "name": "ipython",
    "version": 3
   },
   "file_extension": ".py",
   "mimetype": "text/x-python",
   "name": "python",
   "nbconvert_exporter": "python",
   "pygments_lexer": "ipython3",
   "version": "3.6.0"
  }
 },
 "nbformat": 4,
 "nbformat_minor": 2
}
