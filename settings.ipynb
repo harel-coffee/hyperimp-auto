{
 "cells": [
  {
   "cell_type": "markdown",
   "metadata": {
    "collapsed": true
   },
   "source": [
    "# Find best hyperparameter settings\n",
    "The 'best' hyperparamter settings of a dataset can be found by observing performance data of other datasets."
   ]
  },
  {
   "cell_type": "code",
   "execution_count": 1,
   "metadata": {
    "collapsed": false
   },
   "outputs": [],
   "source": [
    "from hyperimp import settings\n",
    "from scipy.io import arff\n",
    "import pandas as pd"
   ]
  },
  {
   "cell_type": "code",
   "execution_count": 2,
   "metadata": {
    "collapsed": false
   },
   "outputs": [],
   "source": [
    "# load data\n",
    "data = arff.loadarff('data/meta_svm.arff')\n",
    "svm = pd.DataFrame(data[0])\n",
    "data = arff.loadarff('data/meta_random_forest.arff')\n",
    "rf = pd.DataFrame(data[0])\n",
    "data = arff.loadarff('data/meta_adaboost.arff')\n",
    "ada = pd.DataFrame(data[0])\n",
    "\n",
    "# group svm data by kernel\n",
    "g = svm.groupby('kernel')\n",
    "\n",
    "# create dictionary with dataframes per algorithm\n",
    "algs = ['svm_' + s.decode('UTF-8') for s in list(g.groups.keys())] + ['rf', 'ada']\n",
    "dfs_all = [g.get_group(x) for x in g.groups] + [rf, ada]\n",
    "dfs = {}\n",
    "for alg, df in zip(algs, dfs_all):\n",
    "    dfs[alg] = df\n",
    "\n",
    "# initialize Alg objects\n",
    "algs = settings.init_algs('data/parameters.csv', dfs)"
   ]
  },
  {
   "cell_type": "code",
   "execution_count": 4,
   "metadata": {
    "collapsed": false
   },
   "outputs": [
    {
     "name": "stdout",
     "output_type": "stream",
     "text": [
      "Dataset 18 not included because no. obervations is 27.\n",
      "Dataset 3913 not included because no. obervations is 30.\n",
      "Dataset 3917 not included because no. obervations is 36.\n",
      "Dataset 14965 not included because no. obervations is 9.\n",
      "Dataset 14968 not included because no. obervations is 32.\n",
      "{'gamma': 0.0016378466109978518, 'C': 9.187842332321658, 'tol': 3.5138073842994044e-05, 'coef0': 0.7262941230770367}\n"
     ]
    }
   ],
   "source": [
    "# example\n",
    "task_id = 3 # task to consider\n",
    "alg = algs[2] # algorithm to consider\n",
    "n = 10 # top n\n",
    "m = 40 # minimum number of observations\n",
    "print(settings.find_settings(task_id, alg, n, m))"
   ]
  },
  {
   "cell_type": "code",
   "execution_count": null,
   "metadata": {
    "collapsed": true
   },
   "outputs": [],
   "source": []
  }
 ],
 "metadata": {
  "kernelspec": {
   "display_name": "Python 3",
   "language": "python",
   "name": "python3"
  },
  "language_info": {
   "codemirror_mode": {
    "name": "ipython",
    "version": 3
   },
   "file_extension": ".py",
   "mimetype": "text/x-python",
   "name": "python",
   "nbconvert_exporter": "python",
   "pygments_lexer": "ipython3",
   "version": "3.6.0"
  }
 },
 "nbformat": 4,
 "nbformat_minor": 2
}
